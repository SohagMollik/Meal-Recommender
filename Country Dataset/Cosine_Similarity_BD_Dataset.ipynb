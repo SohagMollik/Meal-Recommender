{
 "cells": [
  {
   "cell_type": "code",
   "execution_count": 2,
   "id": "67c39674",
   "metadata": {},
   "outputs": [
    {
     "name": "stdout",
     "output_type": "stream",
     "text": [
      "          Food name in Bengali  Energy  Protein  Fat   \\\n",
      "34                        Jira     402    18.30  17.6   \n",
      "149                     Payesh     205     4.30   4.7   \n",
      "164                   Dudh cha      41     0.73   0.8   \n",
      "160  Coffee, dudh o chini soho      38     0.90   0.8   \n",
      "127                 Mayer dudh      69     1.20   4.0   \n",
      "..                         ...     ...      ...   ...   \n",
      "159                 Daber pani      20     0.60   0.3   \n",
      "38               Thankuni pata      37     2.30   0.5   \n",
      "165              Baking powder     731     5.20   0.0   \n",
      "166                      Lobon       0     0.00   0.0   \n",
      "134                Khabar pani       0     0.00   0.0   \n",
      "\n",
      "     Carbohydrate available   Total dietary fibre   Ash        Na  \\\n",
      "34                      37.2                  10.5   6.4    148.0   \n",
      "149                     36.2                   0.2   0.9     65.0   \n",
      "164                      7.6                   0.2   0.3     14.0   \n",
      "160                      6.8                   0.0   0.3     14.0   \n",
      "127                      7.2                   0.0   0.2     16.0   \n",
      "..                       ...                   ...   ...      ...   \n",
      "159                      3.2                   1.1   0.3     96.0   \n",
      "38                       1.6                   8.7   2.6    200.0   \n",
      "165                     37.8                   0.0  50.7  11800.0   \n",
      "166                      0.0                   0.0  99.8  39340.0   \n",
      "134                      0.0                   0.0   0.0      3.0   \n",
      "\n",
      "     Similarity(%)  \n",
      "34       93.270442  \n",
      "149      93.192818  \n",
      "164      93.117348  \n",
      "160      93.075912  \n",
      "127      93.060497  \n",
      "..             ...  \n",
      "159      45.290331  \n",
      "38       43.304365  \n",
      "165      32.900055  \n",
      "166      27.442431  \n",
      "134      27.439558  \n",
      "\n",
      "[181 rows x 9 columns]\n"
     ]
    }
   ],
   "source": [
    "import pandas as pd\n",
    "from sklearn.metrics.pairwise import cosine_similarity\n",
    "\n",
    "# Read the test dataset\n",
    "test_data_path = \"C:/Users/ASUS/Downloads/BD test data.csv\"\n",
    "test_data = pd.read_csv(test_data_path)\n",
    "\n",
    "# Calculate cosine similarities\n",
    "similarities = cosine_similarity(test_data.iloc[:, 1:])\n",
    "\n",
    "# Convert similarities to percentages\n",
    "similarities_percent = (similarities * 100).round(2)\n",
    "\n",
    "# Add similarity column to the dataframe\n",
    "test_data['Similarity(%)'] = similarities_percent.mean(axis=1)  # Taking average similarity across all items\n",
    "\n",
    "# Sort dataframe by similarity in descending order\n",
    "test_data = test_data.sort_values(by='Similarity(%)', ascending=False)\n",
    "\n",
    "# Display the results\n",
    "print(test_data)\n"
   ]
  },
  {
   "cell_type": "code",
   "execution_count": 3,
   "id": "86d458a0",
   "metadata": {},
   "outputs": [
    {
     "name": "stdout",
     "output_type": "stream",
     "text": [
      "Similarities saved to BD_Cosine_Similarity.csv\n"
     ]
    }
   ],
   "source": [
    "# Save the dataframe to a CSV file\n",
    "output_file_path = \"BD_Cosine_Similarity.csv\"\n",
    "test_data.to_csv(output_file_path, index=False)\n",
    "\n",
    "print(f\"Similarities saved to {output_file_path}\")"
   ]
  },
  {
   "cell_type": "code",
   "execution_count": 4,
   "id": "95f19713",
   "metadata": {},
   "outputs": [
    {
     "name": "stdout",
     "output_type": "stream",
     "text": [
      "Enter your preferred food name: Misti alu, holdey\n",
      "                               Food name in Bengali  Energy  Protein  Fat   \\\n",
      "3    Misti alu, Komola Sundori, siddha, lobon chara      98      0.9   0.3   \n",
      "4                                 Misti alu, holdey     105      0.9   0.3   \n",
      "6                              Misti alu, lal khosa     104      0.6   0.3   \n",
      "8                                   Misti alu, sada      98      0.6   0.3   \n",
      "9              Misti alu, sada, siddha, lobon chara      99      0.6   0.3   \n",
      "..                                              ...     ...      ...   ...   \n",
      "159                                      Daber pani      20      0.6   0.3   \n",
      "38                                    Thankuni pata      37      2.3   0.5   \n",
      "165                                   Baking powder     731      5.2   0.0   \n",
      "166                                           Lobon       0      0.0   0.0   \n",
      "134                                     Khabar pani       0      0.0   0.0   \n",
      "\n",
      "     Carbohydrate available   Total dietary fibre   Ash        Na  \\\n",
      "3                       21.4                   3.0   1.0     20.0   \n",
      "4                       23.1                   3.0   1.0     22.0   \n",
      "6                       23.4                   3.0   1.0     22.0   \n",
      "8                       21.8                   3.0   0.8     21.0   \n",
      "9                       22.1                   3.0   0.8     19.0   \n",
      "..                       ...                   ...   ...      ...   \n",
      "159                      3.2                   1.1   0.3     96.0   \n",
      "38                       1.6                   8.7   2.6    200.0   \n",
      "165                     37.8                   0.0  50.7  11800.0   \n",
      "166                      0.0                   0.0  99.8  39340.0   \n",
      "134                      0.0                   0.0   0.0      3.0   \n",
      "\n",
      "     Similarity(%)  \n",
      "3           100.00  \n",
      "4           100.00  \n",
      "6           100.00  \n",
      "8           100.00  \n",
      "9            99.99  \n",
      "..             ...  \n",
      "159          39.82  \n",
      "38           37.37  \n",
      "165          25.98  \n",
      "166          20.04  \n",
      "134          20.04  \n",
      "\n",
      "[181 rows x 9 columns]\n"
     ]
    }
   ],
   "source": [
    "import pandas as pd\n",
    "from sklearn.metrics.pairwise import cosine_similarity\n",
    "\n",
    "# Read the test dataset\n",
    "test_data_path = \"C:/Users/ASUS/Downloads/BD test data.csv\"\n",
    "test_data = pd.read_csv(test_data_path)\n",
    "\n",
    "# Ask user for their preferred food name\n",
    "preferred_food = input(\"Enter your preferred food name: \")\n",
    "\n",
    "# Ensure that the preferred food exists in the dataset\n",
    "if preferred_food not in test_data['Food name in Bengali'].values:\n",
    "    print(\"Preferred food not found in the dataset!\")\n",
    "else:\n",
    "    # Calculate cosine similarities with the preferred food\n",
    "    preferred_food_index = test_data[test_data['Food name in Bengali'] == preferred_food].index[0]\n",
    "    similarities = cosine_similarity(test_data.iloc[:, 1:], test_data.iloc[preferred_food_index, 1:].values.reshape(1, -1))\n",
    "\n",
    "    # Convert similarities to percentages\n",
    "    similarities_percent = (similarities * 100).round(2)\n",
    "\n",
    "    # Add similarity column to the dataframe\n",
    "    test_data['Similarity(%)'] = similarities_percent\n",
    "\n",
    "    # Sort dataframe by similarity in descending order\n",
    "    test_data = test_data.sort_values(by='Similarity(%)', ascending=False)\n",
    "\n",
    "    # Display the results\n",
    "    print(test_data)\n"
   ]
  },
  {
   "cell_type": "code",
   "execution_count": 5,
   "id": "646d0bc7",
   "metadata": {},
   "outputs": [
    {
     "name": "stdout",
     "output_type": "stream",
     "text": [
      "Similarities saved to BD_Cosine_Similarity.csv\n"
     ]
    }
   ],
   "source": [
    "# Save the dataframe to a CSV file\n",
    "output_file_path = \"BD_Cosine_Similarity.csv\"\n",
    "test_data.to_csv(output_file_path, index=False)\n",
    "\n",
    "print(f\"Similarities saved to {output_file_path}\")"
   ]
  },
  {
   "cell_type": "code",
   "execution_count": null,
   "id": "5a3b56bb",
   "metadata": {},
   "outputs": [],
   "source": []
  }
 ],
 "metadata": {
  "kernelspec": {
   "display_name": "Python 3 (ipykernel)",
   "language": "python",
   "name": "python3"
  },
  "language_info": {
   "codemirror_mode": {
    "name": "ipython",
    "version": 3
   },
   "file_extension": ".py",
   "mimetype": "text/x-python",
   "name": "python",
   "nbconvert_exporter": "python",
   "pygments_lexer": "ipython3",
   "version": "3.10.9"
  }
 },
 "nbformat": 4,
 "nbformat_minor": 5
}
