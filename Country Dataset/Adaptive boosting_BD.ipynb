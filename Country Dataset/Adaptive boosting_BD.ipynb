{
 "cells": [
  {
   "cell_type": "code",
   "execution_count": 4,
   "id": "0f77831f",
   "metadata": {},
   "outputs": [
    {
     "name": "stdout",
     "output_type": "stream",
     "text": [
      "Accuracy: 92.50%\n"
     ]
    }
   ],
   "source": [
    "import pandas as pd\n",
    "from sklearn.model_selection import train_test_split\n",
    "from sklearn.ensemble import AdaBoostClassifier\n",
    "from sklearn.metrics import accuracy_score\n",
    "\n",
    "# Load the dataset\n",
    "data = pd.read_csv(r\"C:\\Users\\ASUS\\Downloads\\BD Final_train.csv\")\n",
    "\n",
    "\n",
    "# Split the dataset into input features and target variable\n",
    "X = data.drop(columns=['Remarks', 'Food name in Bengali', 'Food name in English'])\n",
    "y = data['Remarks']\n",
    "\n",
    "# Split the data into training and testing sets\n",
    "X_train, X_test, y_train, y_test = train_test_split(X, y, test_size=0.2, random_state=42)\n",
    "\n",
    "# Initialize the AdaBoost classifier\n",
    "adaboost = AdaBoostClassifier(n_estimators=50, random_state=42)\n",
    "\n",
    "# Train the AdaBoost classifier\n",
    "adaboost.fit(X_train, y_train)\n",
    "\n",
    "# Predict the target variable on the testing set\n",
    "y_pred = adaboost.predict(X_test)\n",
    "\n",
    "# Evaluate the accuracy of the model\n",
    "accuracy = accuracy_score(y_test, y_pred)\n",
    "print(f\"Accuracy: {accuracy*100:.2f}%\")\n"
   ]
  },
  {
   "cell_type": "code",
   "execution_count": 3,
   "id": "2b259d82",
   "metadata": {},
   "outputs": [
    {
     "name": "stdout",
     "output_type": "stream",
     "text": [
      "Confusion Matrix:\n",
      "[[16  0]\n",
      " [ 3 21]]\n",
      "\n",
      "Specificity:, 1.00\n",
      "Sensitivity:, 0.88\n",
      "False Discovery Rate (FDR):, 0.00\n",
      "False Omission Rate (FOR):, 0.16\n"
     ]
    }
   ],
   "source": [
    "from sklearn.metrics import confusion_matrix\n",
    "\n",
    "# Calculate confusion matrix\n",
    "conf_matrix = confusion_matrix(y_test, y_pred)\n",
    "print(\"Confusion Matrix:\")\n",
    "print(conf_matrix)\n",
    "\n",
    "# Calculate Specificity, Sensitivity, False Discovery Rate (FDR), False Omission Rate (FOR)\n",
    "tn, fp, fn, tp = conf_matrix.ravel()\n",
    "\n",
    "specificity = tn / (tn + fp)\n",
    "sensitivity = tp / (tp + fn)\n",
    "fdr = fp / (fp + tp)\n",
    "for_rate = fn / (fn + tn)\n",
    "\n",
    "print(f\"\\nSpecificity:, {specificity:.2f}\")\n",
    "print(f\"Sensitivity:, {sensitivity:.2f}\")\n",
    "print(f\"False Discovery Rate (FDR):, {fdr:.2f}\")\n",
    "print(f\"False Omission Rate (FOR):, {for_rate:.2f}\")\n"
   ]
  },
  {
   "cell_type": "code",
   "execution_count": null,
   "id": "ba314193",
   "metadata": {},
   "outputs": [],
   "source": []
  }
 ],
 "metadata": {
  "kernelspec": {
   "display_name": "Python 3 (ipykernel)",
   "language": "python",
   "name": "python3"
  },
  "language_info": {
   "codemirror_mode": {
    "name": "ipython",
    "version": 3
   },
   "file_extension": ".py",
   "mimetype": "text/x-python",
   "name": "python",
   "nbconvert_exporter": "python",
   "pygments_lexer": "ipython3",
   "version": "3.10.9"
  }
 },
 "nbformat": 4,
 "nbformat_minor": 5
}
