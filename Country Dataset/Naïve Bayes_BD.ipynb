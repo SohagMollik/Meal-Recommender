{
 "cells": [
  {
   "cell_type": "code",
   "execution_count": 1,
   "id": "f6220227",
   "metadata": {},
   "outputs": [
    {
     "name": "stdout",
     "output_type": "stream",
     "text": [
      "Accuracy:, 80.00%\n"
     ]
    }
   ],
   "source": [
    "import pandas as pd\n",
    "from sklearn.model_selection import train_test_split\n",
    "from sklearn.naive_bayes import GaussianNB\n",
    "from sklearn.metrics import accuracy_score\n",
    "\n",
    "# Load the dataset\n",
    "dataset_path = \"C:\\\\Users\\\\ASUS\\\\Downloads\\\\BD Final_train.csv\"\n",
    "df = pd.read_csv(dataset_path)\n",
    "df = df.drop(['Food name in English'], axis=1)\n",
    "\n",
    "# Preprocess the data\n",
    "# For simplicity, let's drop the 'Food name in Bengali' column as it's not useful for classification\n",
    "df.drop(columns=['Food name in Bengali'], inplace=True)\n",
    "\n",
    "# Split the dataset into features (X) and target (y)\n",
    "X = df.drop(columns=['Remarks'])  # Features\n",
    "y = df['Remarks']  # Target variable\n",
    "\n",
    "# Split the dataset into training and testing sets\n",
    "X_train, X_test, y_train, y_test = train_test_split(X, y, test_size=0.2, random_state=42)\n",
    "\n",
    "# Initialize the Naïve Bayes classifier\n",
    "nb_classifier = GaussianNB()\n",
    "\n",
    "# Train the Naïve Bayes classifier\n",
    "nb_classifier.fit(X_train, y_train)\n",
    "\n",
    "# Make predictions on the test set\n",
    "y_pred = nb_classifier.predict(X_test)\n",
    "\n",
    "# Calculate accuracy\n",
    "accuracy = accuracy_score(y_test, y_pred)\n",
    "print(f\"Accuracy:, {accuracy*100:.2f}%\")\n"
   ]
  },
  {
   "cell_type": "code",
   "execution_count": 3,
   "id": "d6248bae",
   "metadata": {},
   "outputs": [
    {
     "name": "stdout",
     "output_type": "stream",
     "text": [
      "Confusion Matrix:\n",
      "[[14  2]\n",
      " [ 6 18]]\n",
      "\n",
      "Specificity: 0.875\n",
      "Sensitivity:, 0.75\n",
      "False Discovery Rate (FDR): 0.1\n",
      "False Omission Rate (FOR):, 0.30\n"
     ]
    }
   ],
   "source": [
    "from sklearn.metrics import confusion_matrix\n",
    "\n",
    "# Calculate confusion matrix\n",
    "conf_matrix = confusion_matrix(y_test, y_pred)\n",
    "print(\"Confusion Matrix:\")\n",
    "print(conf_matrix)\n",
    "\n",
    "# Calculate Specificity, Sensitivity, False Discovery Rate (FDR), False Omission Rate (FOR)\n",
    "tn, fp, fn, tp = conf_matrix.ravel()\n",
    "\n",
    "specificity = tn / (tn + fp)\n",
    "sensitivity = tp / (tp + fn)\n",
    "fdr = fp / (fp + tp)\n",
    "for_rate = fn / (fn + tn)\n",
    "\n",
    "print(\"\\nSpecificity:\", specificity)\n",
    "print(f\"Sensitivity:, {sensitivity:.2f}\")\n",
    "print(\"False Discovery Rate (FDR):\", fdr)\n",
    "print(f\"False Omission Rate (FOR):, {for_rate:.2f}\")\n"
   ]
  },
  {
   "cell_type": "code",
   "execution_count": null,
   "id": "acbf9a81",
   "metadata": {},
   "outputs": [],
   "source": []
  }
 ],
 "metadata": {
  "kernelspec": {
   "display_name": "Python 3 (ipykernel)",
   "language": "python",
   "name": "python3"
  },
  "language_info": {
   "codemirror_mode": {
    "name": "ipython",
    "version": 3
   },
   "file_extension": ".py",
   "mimetype": "text/x-python",
   "name": "python",
   "nbconvert_exporter": "python",
   "pygments_lexer": "ipython3",
   "version": "3.10.9"
  }
 },
 "nbformat": 4,
 "nbformat_minor": 5
}
