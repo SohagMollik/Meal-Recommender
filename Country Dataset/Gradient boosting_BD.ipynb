{
 "cells": [
  {
   "cell_type": "code",
   "execution_count": 1,
   "id": "bb62f2b6",
   "metadata": {},
   "outputs": [
    {
     "name": "stdout",
     "output_type": "stream",
     "text": [
      "Training Accuracy:, 100.00%\n",
      "Test Accuracy: 0.9\n"
     ]
    }
   ],
   "source": [
    "import pandas as pd\n",
    "from sklearn.model_selection import train_test_split\n",
    "from sklearn.ensemble import GradientBoostingClassifier\n",
    "from sklearn.metrics import accuracy_score\n",
    "\n",
    "# Load the dataset\n",
    "dataset_path = \"C:\\\\Users\\\\ASUS\\\\Downloads\\\\BD Final_train.csv\"\n",
    "data = pd.read_csv(dataset_path)\n",
    "data = data.drop(['Food name in English'], axis=1)\n",
    "\n",
    "# Drop any rows with missing values if necessary\n",
    "data.dropna(inplace=True)\n",
    "\n",
    "# Split features and target variable\n",
    "X = data.drop(columns=['Remarks', 'Food name in Bengali'])  # Assuming 'Remarks' and 'Food name in Bengali' are not features\n",
    "y = data['Remarks']  # Assuming 'Remarks' is the target variable\n",
    "\n",
    "# Splitting the dataset into train and test sets\n",
    "X_train, X_test, y_train, y_test = train_test_split(X, y, test_size=0.2, random_state=42)\n",
    "\n",
    "# Initialize and train Gradient Boosting Classifier\n",
    "gb_classifier = GradientBoostingClassifier()\n",
    "gb_classifier.fit(X_train, y_train)\n",
    "\n",
    "# Predictions\n",
    "y_pred_train = gb_classifier.predict(X_train)\n",
    "y_pred_test = gb_classifier.predict(X_test)\n",
    "\n",
    "# Evaluate model\n",
    "train_accuracy = accuracy_score(y_train, y_pred_train)\n",
    "test_accuracy = accuracy_score(y_test, y_pred_test)\n",
    "\n",
    "print(f\"Training Accuracy:, {train_accuracy*100:.2f}%\")\n",
    "print(\"Test Accuracy:\", test_accuracy)\n"
   ]
  },
  {
   "cell_type": "code",
   "execution_count": 2,
   "id": "f35537d5",
   "metadata": {},
   "outputs": [
    {
     "name": "stdout",
     "output_type": "stream",
     "text": [
      "Accuracy:, 90.00%\n"
     ]
    }
   ],
   "source": [
    "import pandas as pd\n",
    "from sklearn.model_selection import train_test_split\n",
    "from sklearn.ensemble import GradientBoostingClassifier\n",
    "from sklearn.metrics import accuracy_score\n",
    "\n",
    "# Load the dataset\n",
    "data = pd.read_csv(r\"C:\\Users\\ASUS\\Downloads\\BD Final_train.csv\")\n",
    "data = data.drop(['Food name in English'], axis=1)\n",
    "\n",
    "# Split the dataset into input features and output\n",
    "X = data.drop(columns=['Remarks', 'Food name in Bengali'])\n",
    "y = data['Remarks']\n",
    "\n",
    "# Split the data into training and testing sets\n",
    "X_train, X_test, y_train, y_test = train_test_split(X, y, test_size=0.2, random_state=42)\n",
    "\n",
    "# Initialize Gradient Boosting Classifier\n",
    "gb_clf = GradientBoostingClassifier()\n",
    "\n",
    "# Train the classifier\n",
    "gb_clf.fit(X_train, y_train)\n",
    "\n",
    "# Make predictions\n",
    "y_pred = gb_clf.predict(X_test)\n",
    "\n",
    "# Calculate accuracy\n",
    "accuracy = accuracy_score(y_test, y_pred)\n",
    "print(f\"Accuracy:, {accuracy*100:.2f}%\")\n"
   ]
  },
  {
   "cell_type": "code",
   "execution_count": 3,
   "id": "5e3c28ba",
   "metadata": {},
   "outputs": [
    {
     "name": "stdout",
     "output_type": "stream",
     "text": [
      "Confusion Matrix:\n",
      "[[16  0]\n",
      " [ 4 20]]\n",
      "\n",
      "Specificity:, 1.00\n",
      "Sensitivity:, 0.83\n",
      "False Discovery Rate (FDR):, 0.00\n",
      "False Omission Rate (FOR):, 0.20\n"
     ]
    }
   ],
   "source": [
    "from sklearn.metrics import confusion_matrix\n",
    "\n",
    "# Calculate confusion matrix\n",
    "conf_matrix = confusion_matrix(y_test, y_pred)\n",
    "print(\"Confusion Matrix:\")\n",
    "print(conf_matrix)\n",
    "\n",
    "# Calculate Specificity, Sensitivity, False Discovery Rate (FDR), False Omission Rate (FOR)\n",
    "tn, fp, fn, tp = conf_matrix.ravel()\n",
    "\n",
    "specificity = tn / (tn + fp)\n",
    "sensitivity = tp / (tp + fn)\n",
    "fdr = fp / (fp + tp)\n",
    "for_rate = fn / (fn + tn)\n",
    "\n",
    "print(f\"\\nSpecificity:, {specificity:.2f}\")\n",
    "print(f\"Sensitivity:, {sensitivity:.2f}\")\n",
    "print(f\"False Discovery Rate (FDR):, {fdr:.2f}\")\n",
    "print(f\"False Omission Rate (FOR):, {for_rate:.2f}\")\n"
   ]
  },
  {
   "cell_type": "code",
   "execution_count": null,
   "id": "ff756ceb",
   "metadata": {},
   "outputs": [],
   "source": []
  }
 ],
 "metadata": {
  "kernelspec": {
   "display_name": "Python 3 (ipykernel)",
   "language": "python",
   "name": "python3"
  },
  "language_info": {
   "codemirror_mode": {
    "name": "ipython",
    "version": 3
   },
   "file_extension": ".py",
   "mimetype": "text/x-python",
   "name": "python",
   "nbconvert_exporter": "python",
   "pygments_lexer": "ipython3",
   "version": "3.10.9"
  }
 },
 "nbformat": 4,
 "nbformat_minor": 5
}
