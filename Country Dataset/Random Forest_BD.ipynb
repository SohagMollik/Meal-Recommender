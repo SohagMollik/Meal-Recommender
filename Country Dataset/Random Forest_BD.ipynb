{
 "cells": [
  {
   "cell_type": "code",
   "execution_count": 3,
   "id": "6418f396",
   "metadata": {},
   "outputs": [
    {
     "name": "stdout",
     "output_type": "stream",
     "text": [
      "Accuracy:, 92.50%\n"
     ]
    }
   ],
   "source": [
    "import pandas as pd\n",
    "from sklearn.model_selection import train_test_split\n",
    "from sklearn.ensemble import RandomForestClassifier\n",
    "from sklearn.metrics import accuracy_score\n",
    "\n",
    "# Load the dataset\n",
    "dataset_path = r\"C:\\Users\\ASUS\\Downloads\\BD Final_train.csv\"\n",
    "data = pd.read_csv(dataset_path)\n",
    "data = data.drop(['Food name in English'], axis=1)\n",
    "data = data.drop(['Food name in Bengali'], axis=1)\n",
    "\n",
    "# Assuming 'Remarks' column contains the target variable (1 for hypertension-friendly, 0 for not)\n",
    "X = data.drop(columns=['Remarks'])  # Features\n",
    "y = data['Remarks']  # Target variable\n",
    "\n",
    "# Split data into train and test sets\n",
    "X_train, X_test, y_train, y_test = train_test_split(X, y, test_size=0.2, random_state=42)\n",
    "\n",
    "# Initialize Random Forest classifier\n",
    "rf_classifier = RandomForestClassifier(n_estimators=100, random_state=42)\n",
    "\n",
    "# Train the classifier\n",
    "rf_classifier.fit(X_train, y_train)\n",
    "\n",
    "# Predictions on the test set\n",
    "y_pred = rf_classifier.predict(X_test)\n",
    "\n",
    "# Calculate accuracy\n",
    "accuracy = accuracy_score(y_test, y_pred)\n",
    "print(f\"Accuracy:, {accuracy*100:.2f}%\")\n"
   ]
  },
  {
   "cell_type": "code",
   "execution_count": 5,
   "id": "2c85ddfa",
   "metadata": {},
   "outputs": [
    {
     "name": "stdout",
     "output_type": "stream",
     "text": [
      "Confusion Matrix:\n",
      "[[16  0]\n",
      " [ 3 21]]\n",
      "\n",
      "Specificity: 1.0\n",
      "Sensitivity:, 0.88\n",
      "False Discovery Rate (FDR): 0.0\n",
      "False Omission Rate (FOR):, 0.16\n"
     ]
    }
   ],
   "source": [
    "from sklearn.metrics import confusion_matrix\n",
    "\n",
    "# Calculate confusion matrix\n",
    "conf_matrix = confusion_matrix(y_test, y_pred)\n",
    "print(\"Confusion Matrix:\")\n",
    "print(conf_matrix)\n",
    "\n",
    "# Calculate Specificity, Sensitivity, False Discovery Rate (FDR), False Omission Rate (FOR)\n",
    "tn, fp, fn, tp = conf_matrix.ravel()\n",
    "\n",
    "specificity = tn / (tn + fp)\n",
    "sensitivity = tp / (tp + fn)\n",
    "fdr = fp / (fp + tp)\n",
    "for_rate = fn / (fn + tn)\n",
    "\n",
    "print(\"\\nSpecificity:\", specificity)\n",
    "print(f\"Sensitivity:, {sensitivity:.2f}\")\n",
    "print(\"False Discovery Rate (FDR):\", fdr)\n",
    "print(f\"False Omission Rate (FOR):, {for_rate:.2f}\")\n"
   ]
  },
  {
   "cell_type": "code",
   "execution_count": null,
   "id": "66737521",
   "metadata": {},
   "outputs": [],
   "source": []
  }
 ],
 "metadata": {
  "kernelspec": {
   "display_name": "Python 3 (ipykernel)",
   "language": "python",
   "name": "python3"
  },
  "language_info": {
   "codemirror_mode": {
    "name": "ipython",
    "version": 3
   },
   "file_extension": ".py",
   "mimetype": "text/x-python",
   "name": "python",
   "nbconvert_exporter": "python",
   "pygments_lexer": "ipython3",
   "version": "3.10.9"
  }
 },
 "nbformat": 4,
 "nbformat_minor": 5
}
