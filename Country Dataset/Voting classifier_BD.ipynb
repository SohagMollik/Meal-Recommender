{
 "cells": [
  {
   "cell_type": "code",
   "execution_count": 2,
   "id": "f54c522a",
   "metadata": {},
   "outputs": [
    {
     "name": "stdout",
     "output_type": "stream",
     "text": [
      "Accuracy:, 90.00%\n"
     ]
    }
   ],
   "source": [
    "import pandas as pd\n",
    "from sklearn.model_selection import train_test_split\n",
    "from sklearn.ensemble import RandomForestClassifier, GradientBoostingClassifier, VotingClassifier\n",
    "from sklearn.metrics import accuracy_score\n",
    "\n",
    "# Load the dataset\n",
    "data = pd.read_csv(r\"C:\\Users\\ASUS\\Downloads\\BD Final_train.csv\")\n",
    "data = data.drop(['Food name in English'], axis=1)\n",
    "\n",
    "# Split features and target variable\n",
    "X = data.drop(columns=['Food name in Bengali', 'Remarks'])\n",
    "y = data['Remarks']\n",
    "\n",
    "# Splitting the dataset into the Training set and Test set\n",
    "X_train, X_test, y_train, y_test = train_test_split(X, y, test_size=0.2, random_state=42)\n",
    "\n",
    "# Initialize classifiers\n",
    "clf1 = RandomForestClassifier(random_state=42)\n",
    "clf2 = GradientBoostingClassifier(random_state=42)\n",
    "\n",
    "# Define the Voting Classifier\n",
    "voting_clf = VotingClassifier(estimators=[('rf', clf1), ('gb', clf2)], voting='hard')\n",
    "\n",
    "# Train the Voting Classifier\n",
    "voting_clf.fit(X_train, y_train)\n",
    "\n",
    "# Predictions\n",
    "y_pred = voting_clf.predict(X_test)\n",
    "\n",
    "# Calculate accuracy\n",
    "accuracy = accuracy_score(y_test, y_pred)\n",
    "print(f\"Accuracy:, {accuracy*100:.2f}%\")\n"
   ]
  },
  {
   "cell_type": "code",
   "execution_count": 3,
   "id": "d0ca5029",
   "metadata": {},
   "outputs": [
    {
     "name": "stdout",
     "output_type": "stream",
     "text": [
      "Confusion Matrix:\n",
      "[[16  0]\n",
      " [ 4 20]]\n",
      "\n",
      "Specificity:, 1.00\n",
      "Sensitivity:, 0.83\n",
      "False Discovery Rate (FDR):, 0.00\n",
      "False Omission Rate (FOR):, 0.20\n"
     ]
    }
   ],
   "source": [
    "from sklearn.metrics import confusion_matrix\n",
    "\n",
    "# Calculate confusion matrix\n",
    "conf_matrix = confusion_matrix(y_test, y_pred)\n",
    "print(\"Confusion Matrix:\")\n",
    "print(conf_matrix)\n",
    "\n",
    "# Calculate Specificity, Sensitivity, False Discovery Rate (FDR), False Omission Rate (FOR)\n",
    "tn, fp, fn, tp = conf_matrix.ravel()\n",
    "\n",
    "specificity = tn / (tn + fp)\n",
    "sensitivity = tp / (tp + fn)\n",
    "fdr = fp / (fp + tp)\n",
    "for_rate = fn / (fn + tn)\n",
    "\n",
    "print(f\"\\nSpecificity:, {specificity:.2f}\")\n",
    "print(f\"Sensitivity:, {sensitivity:.2f}\")\n",
    "print(f\"False Discovery Rate (FDR):, {fdr:.2f}\")\n",
    "print(f\"False Omission Rate (FOR):, {for_rate:.2f}\")\n"
   ]
  },
  {
   "cell_type": "code",
   "execution_count": null,
   "id": "874f8f44",
   "metadata": {},
   "outputs": [],
   "source": []
  }
 ],
 "metadata": {
  "kernelspec": {
   "display_name": "Python 3 (ipykernel)",
   "language": "python",
   "name": "python3"
  },
  "language_info": {
   "codemirror_mode": {
    "name": "ipython",
    "version": 3
   },
   "file_extension": ".py",
   "mimetype": "text/x-python",
   "name": "python",
   "nbconvert_exporter": "python",
   "pygments_lexer": "ipython3",
   "version": "3.10.9"
  }
 },
 "nbformat": 4,
 "nbformat_minor": 5
}
