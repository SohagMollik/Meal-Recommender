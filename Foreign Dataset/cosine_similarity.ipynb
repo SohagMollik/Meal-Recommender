{
 "cells": [
  {
   "cell_type": "code",
   "execution_count": 1,
   "id": "bf7c979e",
   "metadata": {},
   "outputs": [
    {
     "name": "stdout",
     "output_type": "stream",
     "text": [
      "Enter your food choice: Radish Butter\n",
      "                                               title      energy        fat  \\\n",
      "6                                      Radish Butter  480.494849  53.675306   \n",
      "28973                                     Radish Dip  602.346445  65.112118   \n",
      "31680                        Radish and Carrot Salad   39.794792   0.142393   \n",
      "42984                        Radish and Carrot Salad   39.794792   0.142393   \n",
      "10595                             Mango-Radish Salsa  179.874461  10.296580   \n",
      "...                                              ...         ...        ...   \n",
      "17166                            Whole Wheat Chapati  289.790099   7.436600   \n",
      "17167                    Speedy Chocolate Drop Candy  541.947878  50.383837   \n",
      "17168               Countdown #1 Best Pie Crust Ever  441.362335  28.706269   \n",
      "17169                                skunks butt rub  190.647482   3.818841   \n",
      "50234  Extremely Easy and Quick - Namul Daikon Salad  110.315153  10.092285   \n",
      "\n",
      "         protein       salt  saturates    sugars  similarity(%)  \n",
      "6       0.789083   0.056023  33.391527  0.678265     100.000000  \n",
      "28973   1.829818   1.394644  10.204770  0.818699      77.578103  \n",
      "31680   0.727935   2.045524   0.031460  6.817478      63.879209  \n",
      "42984   0.727935   2.045524   0.031460  6.817478      63.879209  \n",
      "10595   7.140719   0.107611   0.584461  4.592219      61.165024  \n",
      "...          ...        ...        ...       ...            ...  \n",
      "17166   6.517753   0.188162   1.039004  0.171653       0.000000  \n",
      "17167  13.267625   0.024295   9.080338  6.644873       0.000000  \n",
      "17168   5.271937   0.775851  13.884212  3.449005       0.000000  \n",
      "17169   8.779614  39.055910   0.515939  2.388985       0.000000  \n",
      "50234   1.797135   1.618909   1.442853  1.616948       0.000000  \n",
      "\n",
      "[50235 rows x 8 columns]\n"
     ]
    }
   ],
   "source": [
    "import pandas as pd\n",
    "from sklearn.feature_extraction.text import TfidfVectorizer\n",
    "from sklearn.metrics.pairwise import cosine_similarity\n",
    "\n",
    "# Load dataset\n",
    "dataset_path = \"F:/4th year 2nd semester/Thesis/Dataset/test_dataset.csv\"\n",
    "data = pd.read_csv(dataset_path)\n",
    "\n",
    "# Take user input\n",
    "user_input = input(\"Enter your food choice: \")\n",
    "\n",
    "# Calculate cosine similarity\n",
    "tfidf_vectorizer = TfidfVectorizer()\n",
    "tfidf_matrix = tfidf_vectorizer.fit_transform(data['title'].values.astype('U'))\n",
    "user_tfidf = tfidf_vectorizer.transform([user_input])\n",
    "\n",
    "cosine_similarities = cosine_similarity(user_tfidf, tfidf_matrix).flatten()\n",
    "\n",
    "# Add similarity percentage to the dataframe\n",
    "data['similarity(%)'] = cosine_similarities * 100\n",
    "\n",
    "# Sort dataframe by similarity percentage\n",
    "data = data.sort_values(by='similarity(%)', ascending=False)\n",
    "\n",
    "# Print the result\n",
    "print(data[['title', 'energy', 'fat', 'protein', 'salt', 'saturates', 'sugars', 'similarity(%)']])\n"
   ]
  },
  {
   "cell_type": "code",
   "execution_count": 1,
   "id": "6c7ceed0",
   "metadata": {},
   "outputs": [
    {
     "name": "stdout",
     "output_type": "stream",
     "text": [
      "Enter your food choice: Radish Butter\n",
      "Result saved to: F:/4th year 2nd semester/Thesis/Dataset/cosine_similarity.csv\n"
     ]
    }
   ],
   "source": [
    "import pandas as pd\n",
    "from sklearn.feature_extraction.text import TfidfVectorizer\n",
    "from sklearn.metrics.pairwise import cosine_similarity\n",
    "\n",
    "# Load dataset\n",
    "dataset_path = \"F:/4th year 2nd semester/Thesis/Dataset/test_dataset.csv\"\n",
    "data = pd.read_csv(dataset_path)\n",
    "\n",
    "# Take user input\n",
    "user_input = input(\"Enter your food choice: \")\n",
    "\n",
    "# Calculate cosine similarity\n",
    "tfidf_vectorizer = TfidfVectorizer()\n",
    "tfidf_matrix = tfidf_vectorizer.fit_transform(data['title'].values.astype('U'))\n",
    "user_tfidf = tfidf_vectorizer.transform([user_input])\n",
    "\n",
    "cosine_similarities = cosine_similarity(user_tfidf, tfidf_matrix).flatten()\n",
    "\n",
    "# Add similarity percentage to the dataframe\n",
    "data['similarity(%)'] = cosine_similarities * 100\n",
    "\n",
    "# Sort dataframe by similarity percentage\n",
    "data = data.sort_values(by='similarity(%)', ascending=False)\n",
    "\n",
    "# Save the result to CSV (first 500 rows)\n",
    "result_csv_path = \"F:/4th year 2nd semester/Thesis/Dataset/cosine_similarity.csv\"\n",
    "data.head(500).to_csv(result_csv_path, index=False)\n",
    "\n",
    "print(\"Result saved to:\", result_csv_path)\n"
   ]
  },
  {
   "cell_type": "code",
   "execution_count": null,
   "id": "b1cf746b",
   "metadata": {},
   "outputs": [],
   "source": []
  }
 ],
 "metadata": {
  "kernelspec": {
   "display_name": "Python 3 (ipykernel)",
   "language": "python",
   "name": "python3"
  },
  "language_info": {
   "codemirror_mode": {
    "name": "ipython",
    "version": 3
   },
   "file_extension": ".py",
   "mimetype": "text/x-python",
   "name": "python",
   "nbconvert_exporter": "python",
   "pygments_lexer": "ipython3",
   "version": "3.10.9"
  }
 },
 "nbformat": 4,
 "nbformat_minor": 5
}
